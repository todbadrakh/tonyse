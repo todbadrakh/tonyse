{
 "cells": [
  {
   "cell_type": "markdown",
   "metadata": {},
   "source": [
    "# Estimation of Pi Using Random Numbers\n",
    "\n",
    "Adapted from HPC Carpentries lesson [HPC Parallelisation For Novices](https://www.hpc-carpentry.org/hpc-parallel-novice/).\n",
    "\n",
    "We will use the Julia programming language to estimate the value of $\\pi$.\n",
    "\n",
    "## The Problem\n",
    "\n",
    "Consider a square enclosing a quarter of a circle with radius $R$. The area of the square is $A_s$ is <br>\n",
    "    \n",
    "$A_s = R^2$\n",
    "\n",
    "and the area of the quarter circle $A_{qc}$ is\n",
    "    \n",
    "$A_{qc} = \\frac{1}{4} \\pi R^2$.\n",
    "\n",
    "Substituting for $R^2$, one arrives at\n",
    "\n",
    "$A_{qc} = \\frac{1}{4} \\pi A_s$\n",
    "\n",
    "$\\pi = 4 \\frac{A_{qc}}{A_s}$\n",
    "\n",
    "meaning that $\\pi$ is equal to four times the ratio of the areas of the quarter circle to the square. Therefore, we can use random numbers to calculate the value of $\\pi$ by constructing a unit square, throwing random points into the square, and counting the number of points which land in the quarter circle.\n",
    "\n",
    "![image](estimate_pi.svg \"Title\")\n",
    "\n",
    "The number of points which land in the quarter circle divided by the total number of random points we threw should give us an approximation of the ratio of the areas (with the accuracy increasing with the number of total points used).\n",
    "\n",
    "We now solve this problem using various methodologies to illustrate the power of vectorization and parallelization."
   ]
  },
  {
   "cell_type": "code",
   "execution_count": 18,
   "metadata": {},
   "outputs": [
    {
     "name": "stdout",
     "output_type": "stream",
     "text": [
      "1\n",
      "1\n",
      "1\n",
      "1\n"
     ]
    },
    {
     "name": "stderr",
     "output_type": "stream",
     "text": [
      "┌ Info: Installing Julia 4 Threads kernelspec in /Users/tok/Library/Jupyter/kernels/julia-4-threads-1.10\n",
      "└ @ IJulia /Users/tok/.julia/packages/IJulia/bHdNn/deps/kspec.jl:105\n"
     ]
    }
   ],
   "source": [
    "using IJulia\n",
    "IJulia.installkernel(\"Julia 4 Threads\", env=Dict(\n",
    "    \"JULIA_NUM_THREADS\" => \"4\",\n",
    "))\n",
    "\n",
    "Threads.@threads for i in 1:4\n",
    "    println(Threads.threadid())\n",
    "end"
   ]
  },
  {
   "cell_type": "markdown",
   "metadata": {},
   "source": [
    "## Using For Loops\n",
    "\n",
    "The simplest method involves using a single for loop to generate the random points and determine whether the point falls within the circle."
   ]
  },
  {
   "cell_type": "code",
   "execution_count": 1,
   "metadata": {},
   "outputs": [
    {
     "name": "stdout",
     "output_type": "stream",
     "text": [
      "3.141427471414275"
     ]
    }
   ],
   "source": [
    "numberOfPoints = 99999999\n",
    "\n",
    "numberOfCirclePoints = 0\n",
    "\n",
    "for i in 1:numberOfPoints\n",
    "    x = rand()\n",
    "    y = rand()\n",
    "    r = sqrt(x*x + y*y)\n",
    "    if r <= 1\n",
    "        numberOfCirclePoints += 1.0\n",
    "    end\n",
    "end\n",
    "\n",
    "pi = 4 * numberOfCirclePoints / numberOfPoints\n",
    "print(pi)"
   ]
  },
  {
   "cell_type": "markdown",
   "metadata": {},
   "source": [
    "Let us now put the above code into a function so that we can call it later to do comparisons against other methods."
   ]
  },
  {
   "cell_type": "code",
   "execution_count": 9,
   "metadata": {},
   "outputs": [
    {
     "data": {
      "text/plain": [
       "serial_pi (generic function with 1 method)"
      ]
     },
     "metadata": {},
     "output_type": "display_data"
    }
   ],
   "source": [
    "function serial_pi(numberOfPoints)\n",
    "\n",
    "    numberOfCirclePoints = 0\n",
    "    for i in 1:numberOfPoints\n",
    "        x = rand()\n",
    "        y = rand()\n",
    "        r = sqrt(x^2 + y^2)\n",
    "        if r <= 1\n",
    "            numberOfCirclePoints += 1\n",
    "        end\n",
    "    end\n",
    "    \n",
    "    return(4 * numberOfCirclePoints / numberOfPoints)\n",
    "end"
   ]
  },
  {
   "cell_type": "markdown",
   "metadata": {},
   "source": [
    "Now we can call the function with"
   ]
  },
  {
   "cell_type": "code",
   "execution_count": 10,
   "metadata": {},
   "outputs": [
    {
     "name": "stdout",
     "output_type": "stream",
     "text": [
      "3.138135138135138"
     ]
    }
   ],
   "source": [
    "pi = serial_pi(999999)\n",
    "print(pi)"
   ]
  },
  {
   "cell_type": "markdown",
   "metadata": {},
   "source": [
    "## Using Threads\n"
   ]
  },
  {
   "cell_type": "code",
   "execution_count": 13,
   "metadata": {},
   "outputs": [
    {
     "data": {
      "text/plain": [
       "thread__pi (generic function with 1 method)"
      ]
     },
     "metadata": {},
     "output_type": "display_data"
    }
   ],
   "source": [
    "\n",
    "import Base.Threads.@spawn\n",
    "\n",
    "function thread__pi(numberOfPoints)\n",
    "\n",
    "    numberOfCirclePoints = 0\n",
    "    Threads.@threads for i in 1:numberOfPoints\n",
    "        x = rand()\n",
    "        y = rand()\n",
    "        r = sqrt(x^2 + y^2)\n",
    "        if r <= 1\n",
    "            numberOfCirclePoints += 1\n",
    "        end\n",
    "    end\n",
    "    \n",
    "    return(4 * numberOfCirclePoints / numberOfPoints)\n",
    "end"
   ]
  },
  {
   "cell_type": "code",
   "execution_count": 16,
   "metadata": {},
   "outputs": [
    {
     "name": "stdout",
     "output_type": "stream",
     "text": [
      "  24.054 ns (0 allocations: 0 bytes)\n"
     ]
    },
    {
     "data": {
      "text/plain": [
       "3.3333333333333335"
      ]
     },
     "metadata": {},
     "output_type": "display_data"
    }
   ],
   "source": [
    "using BenchmarkTools\n",
    "\n",
    "@btime serial_pi(12)"
   ]
  },
  {
   "cell_type": "code",
   "execution_count": 17,
   "metadata": {},
   "outputs": [
    {
     "name": "stdout",
     "output_type": "stream",
     "text": [
      "  3.333 μs (10 allocations: 960 bytes)\n"
     ]
    },
    {
     "data": {
      "text/plain": [
       "3.0"
      ]
     },
     "metadata": {},
     "output_type": "display_data"
    }
   ],
   "source": [
    "@btime thread_pi(12)"
   ]
  },
  {
   "cell_type": "code",
   "execution_count": null,
   "metadata": {},
   "outputs": [],
   "source": []
  }
 ],
 "metadata": {
  "kernelspec": {
   "display_name": "Julia 1.10.4",
   "language": "julia",
   "name": "julia-1.10"
  },
  "language_info": {
   "file_extension": ".jl",
   "mimetype": "application/julia",
   "name": "julia",
   "version": "1.10.4"
  }
 },
 "nbformat": 4,
 "nbformat_minor": 4
}
