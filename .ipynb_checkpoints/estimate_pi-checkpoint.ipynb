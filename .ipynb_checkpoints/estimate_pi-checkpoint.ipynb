{
 "cells": [
  {
   "cell_type": "markdown",
   "metadata": {},
   "source": [
    "# Estimation of Pi Using Random Numbers\n",
    "\n",
    "Adapted from HPC Carpentries lesson [HPC Parallelisation For Novices](https://www.hpc-carpentry.org/hpc-parallel-novice/).\n",
    "\n",
    "We will use the Julia programming language to estimate the value of $\\pi$.\n",
    "\n",
    "## The Problem\n",
    "\n",
    "Consider a square enclosing a quarter of a circle with radius $R$. The area of the square is $A_s$ is <br>\n",
    "    \n",
    "$A_s = R^2$\n",
    "\n",
    "and the area of the quarter circle $A_{qc}$ is\n",
    "    \n",
    "$A_{qc} = \\frac{1}{4} \\pi R^2$.\n",
    "\n",
    "Substituting for $R^2$, one arrives at\n",
    "\n",
    "$A_{qc} = \\frac{1}{4} \\pi A_s$\n",
    "\n",
    "$\\pi = 4 \\frac{A_{qc}}{A_s}$\n",
    "\n",
    "meaning that $\\pi$ is equal to four times the ratio of the areas of the quarter circle to the square. Therefore, we can use random numbers to calculate the value of $\\pi$ by constructing a unit square, throwing random points into the square, and counting the number of points which land in the quarter circle.\n",
    "\n",
    "![image](estimate_pi.svg \"Title\")\n",
    "\n",
    "The number of points which land in the quarter circle divided by the total number of random points we threw should give us an approximation of the ratio of the areas (with the accuracy increasing with the number of total points used).\n",
    "\n",
    "We now solve this problem using various methodologies to illustrate the power of vectorization and parallelization."
   ]
  },
  {
   "cell_type": "markdown",
   "metadata": {},
   "source": [
    "## Using For Loops\n",
    "\n",
    "The simplest method involves using a single for loop to generate the random points and determine whether the point falls within the circle."
   ]
  },
  {
   "cell_type": "markdown",
   "metadata": {},
   "source": [
    "Let us now put the above code into a function so that we can call it later to do comparisons against other methods."
   ]
  },
  {
   "cell_type": "code",
   "execution_count": 2,
   "metadata": {},
   "outputs": [
    {
     "data": {
      "text/plain": [
       "serial_for_loop_pi (generic function with 1 method)"
      ]
     },
     "execution_count": 2,
     "metadata": {},
     "output_type": "execute_result"
    }
   ],
   "source": [
    "function serial_for_loop_pi(numberOfPoints)\n",
    "    numberOfCirclePoints = 0\n",
    "    for i in 1:numberOfPoints\n",
    "        x = rand()\n",
    "        y = rand()\n",
    "        r = sqrt(x^2 + y^2)\n",
    "        if r <= 1\n",
    "            numberOfCirclePoints += 1\n",
    "        end\n",
    "    end\n",
    "    return(4*numberOfCirclePoints/numberOfPoints)\n",
    "end"
   ]
  },
  {
   "cell_type": "code",
   "execution_count": 3,
   "metadata": {},
   "outputs": [
    {
     "name": "stdout",
     "output_type": "stream",
     "text": [
      "  1.875 μs (0 allocations: 0 bytes)\n"
     ]
    },
    {
     "data": {
      "text/plain": [
       "3.179179179179179"
      ]
     },
     "execution_count": 3,
     "metadata": {},
     "output_type": "execute_result"
    }
   ],
   "source": [
    "using BenchmarkTools\n",
    "@btime serial_for_loop_pi(999)"
   ]
  },
  {
   "cell_type": "markdown",
   "metadata": {},
   "source": [
    "## Using Built-In Vectors"
   ]
  },
  {
   "cell_type": "code",
   "execution_count": 4,
   "metadata": {},
   "outputs": [
    {
     "data": {
      "text/plain": [
       "serial_vector_pi (generic function with 1 method)"
      ]
     },
     "execution_count": 4,
     "metadata": {},
     "output_type": "execute_result"
    }
   ],
   "source": [
    "## Using Vectors\n",
    "function serial_vector_pi(numberOfPoints)\n",
    "    numberOfCirclePoints = 0\n",
    "    x = rand(Float64,numberOfPoints)\n",
    "    y = rand(Float64,numberOfPoints)\n",
    "    r = map(sqrt,x.^2+y.^2)\n",
    "    numberOfCirclePoints = count(r->(r<=1),r)\n",
    "    return(4 * numberOfCirclePoints / numberOfPoints)\n",
    "end"
   ]
  },
  {
   "cell_type": "code",
   "execution_count": 5,
   "metadata": {},
   "outputs": [
    {
     "name": "stdout",
     "output_type": "stream",
     "text": [
      "  2.708 μs (6 allocations: 48.00 KiB)\n"
     ]
    },
    {
     "data": {
      "text/plain": [
       "3.103103103103103"
      ]
     },
     "execution_count": 5,
     "metadata": {},
     "output_type": "execute_result"
    }
   ],
   "source": [
    "@btime serial_vector_pi(999)"
   ]
  },
  {
   "cell_type": "code",
   "execution_count": 17,
   "metadata": {},
   "outputs": [
    {
     "data": {
      "text/plain": [
       "4"
      ]
     },
     "execution_count": 17,
     "metadata": {},
     "output_type": "execute_result"
    }
   ],
   "source": [
    "import Base.Threads.@spawn\n",
    "Threads.nthreads()"
   ]
  },
  {
   "cell_type": "markdown",
   "metadata": {},
   "source": [
    "## Using Multithreading"
   ]
  },
  {
   "cell_type": "code",
   "execution_count": 13,
   "metadata": {},
   "outputs": [
    {
     "data": {
      "text/plain": [
       "thread_pi (generic function with 1 method)"
      ]
     },
     "execution_count": 13,
     "metadata": {},
     "output_type": "execute_result"
    }
   ],
   "source": [
    "function thread_pi(numberOfPoints)\n",
    "    numberOfCirclePoints = 0\n",
    "    x = rand(Float64,numberOfPoints)\n",
    "    y = rand(Float64,numberOfPoints)\n",
    "    r = map(sqrt,x.^2+y.^2)\n",
    "    Threads.@threads for i in 1:numberOfPoints\n",
    "        if r[i] <= 1.0\n",
    "            numberOfCirclePoints += 1\n",
    "        end\n",
    "    end\n",
    "    return(4*numberOfCirclePoints/numberOfPoints)\n",
    "end"
   ]
  },
  {
   "cell_type": "code",
   "execution_count": 14,
   "metadata": {},
   "outputs": [
    {
     "name": "stdout",
     "output_type": "stream",
     "text": [
      "  14.000 μs (31 allocations: 50.20 KiB)\n"
     ]
    },
    {
     "data": {
      "text/plain": [
       "0.8648648648648649"
      ]
     },
     "execution_count": 14,
     "metadata": {},
     "output_type": "execute_result"
    }
   ],
   "source": [
    "@btime thread_pi(999)"
   ]
  },
  {
   "cell_type": "code",
   "execution_count": null,
   "metadata": {},
   "outputs": [],
   "source": []
  }
 ],
 "metadata": {
  "kernelspec": {
   "display_name": "Julia 4 Threads 1.10.4",
   "language": "julia",
   "name": "julia-4-threads-1.10"
  },
  "language_info": {
   "file_extension": ".jl",
   "mimetype": "application/julia",
   "name": "julia",
   "version": "1.10.4"
  }
 },
 "nbformat": 4,
 "nbformat_minor": 4
}
